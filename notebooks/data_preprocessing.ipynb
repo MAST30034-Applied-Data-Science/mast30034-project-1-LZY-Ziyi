{
 "cells": [
  {
   "cell_type": "markdown",
   "metadata": {},
   "source": [
    "# Preprocessing\n",
    "**1.Read the data**"
   ]
  },
  {
   "cell_type": "code",
   "execution_count": 1,
   "metadata": {},
   "outputs": [
    {
     "data": {
      "text/html": [
       "<div>\n",
       "<style scoped>\n",
       "    .dataframe tbody tr th:only-of-type {\n",
       "        vertical-align: middle;\n",
       "    }\n",
       "\n",
       "    .dataframe tbody tr th {\n",
       "        vertical-align: top;\n",
       "    }\n",
       "\n",
       "    .dataframe thead th {\n",
       "        text-align: right;\n",
       "    }\n",
       "</style>\n",
       "<table border=\"1\" class=\"dataframe\">\n",
       "  <thead>\n",
       "    <tr style=\"text-align: right;\">\n",
       "      <th></th>\n",
       "      <th>tpep_pickup_datetime</th>\n",
       "      <th>tpep_dropoff_datetime</th>\n",
       "      <th>trip_distance</th>\n",
       "      <th>PULocationID</th>\n",
       "      <th>DOLocationID</th>\n",
       "      <th>payment_type</th>\n",
       "      <th>fare_amount</th>\n",
       "      <th>extra</th>\n",
       "      <th>tip_amount</th>\n",
       "      <th>airport_fee</th>\n",
       "    </tr>\n",
       "  </thead>\n",
       "  <tbody>\n",
       "    <tr>\n",
       "      <th>0</th>\n",
       "      <td>2022-01-01 00:35:40</td>\n",
       "      <td>2022-01-01 00:53:29</td>\n",
       "      <td>3.80</td>\n",
       "      <td>142</td>\n",
       "      <td>236</td>\n",
       "      <td>1</td>\n",
       "      <td>14.50</td>\n",
       "      <td>3.0</td>\n",
       "      <td>3.65</td>\n",
       "      <td>0.0</td>\n",
       "    </tr>\n",
       "    <tr>\n",
       "      <th>1</th>\n",
       "      <td>2022-01-01 00:33:43</td>\n",
       "      <td>2022-01-01 00:42:07</td>\n",
       "      <td>2.10</td>\n",
       "      <td>236</td>\n",
       "      <td>42</td>\n",
       "      <td>1</td>\n",
       "      <td>8.00</td>\n",
       "      <td>0.5</td>\n",
       "      <td>4.00</td>\n",
       "      <td>0.0</td>\n",
       "    </tr>\n",
       "    <tr>\n",
       "      <th>2</th>\n",
       "      <td>2022-01-01 00:53:21</td>\n",
       "      <td>2022-01-01 01:02:19</td>\n",
       "      <td>0.97</td>\n",
       "      <td>166</td>\n",
       "      <td>166</td>\n",
       "      <td>1</td>\n",
       "      <td>7.50</td>\n",
       "      <td>0.5</td>\n",
       "      <td>1.76</td>\n",
       "      <td>0.0</td>\n",
       "    </tr>\n",
       "    <tr>\n",
       "      <th>3</th>\n",
       "      <td>2022-01-01 00:25:21</td>\n",
       "      <td>2022-01-01 00:35:23</td>\n",
       "      <td>1.09</td>\n",
       "      <td>114</td>\n",
       "      <td>68</td>\n",
       "      <td>2</td>\n",
       "      <td>8.00</td>\n",
       "      <td>0.5</td>\n",
       "      <td>0.00</td>\n",
       "      <td>0.0</td>\n",
       "    </tr>\n",
       "    <tr>\n",
       "      <th>4</th>\n",
       "      <td>2022-01-01 00:36:48</td>\n",
       "      <td>2022-01-01 01:14:20</td>\n",
       "      <td>4.30</td>\n",
       "      <td>68</td>\n",
       "      <td>163</td>\n",
       "      <td>1</td>\n",
       "      <td>23.50</td>\n",
       "      <td>0.5</td>\n",
       "      <td>3.00</td>\n",
       "      <td>0.0</td>\n",
       "    </tr>\n",
       "    <tr>\n",
       "      <th>...</th>\n",
       "      <td>...</td>\n",
       "      <td>...</td>\n",
       "      <td>...</td>\n",
       "      <td>...</td>\n",
       "      <td>...</td>\n",
       "      <td>...</td>\n",
       "      <td>...</td>\n",
       "      <td>...</td>\n",
       "      <td>...</td>\n",
       "      <td>...</td>\n",
       "    </tr>\n",
       "    <tr>\n",
       "      <th>9071239</th>\n",
       "      <td>2022-03-31 23:45:00</td>\n",
       "      <td>2022-04-01 00:01:00</td>\n",
       "      <td>3.57</td>\n",
       "      <td>48</td>\n",
       "      <td>262</td>\n",
       "      <td>0</td>\n",
       "      <td>18.33</td>\n",
       "      <td>0.0</td>\n",
       "      <td>1.00</td>\n",
       "      <td>NaN</td>\n",
       "    </tr>\n",
       "    <tr>\n",
       "      <th>9071240</th>\n",
       "      <td>2022-03-31 23:59:39</td>\n",
       "      <td>2022-04-01 00:06:09</td>\n",
       "      <td>2.04</td>\n",
       "      <td>48</td>\n",
       "      <td>238</td>\n",
       "      <td>0</td>\n",
       "      <td>9.75</td>\n",
       "      <td>0.0</td>\n",
       "      <td>2.00</td>\n",
       "      <td>NaN</td>\n",
       "    </tr>\n",
       "    <tr>\n",
       "      <th>9071241</th>\n",
       "      <td>2022-03-31 23:50:00</td>\n",
       "      <td>2022-04-01 00:08:00</td>\n",
       "      <td>0.59</td>\n",
       "      <td>48</td>\n",
       "      <td>4</td>\n",
       "      <td>0</td>\n",
       "      <td>17.33</td>\n",
       "      <td>0.0</td>\n",
       "      <td>2.23</td>\n",
       "      <td>NaN</td>\n",
       "    </tr>\n",
       "    <tr>\n",
       "      <th>9071242</th>\n",
       "      <td>2022-03-31 23:25:56</td>\n",
       "      <td>2022-03-31 23:32:37</td>\n",
       "      <td>1.26</td>\n",
       "      <td>158</td>\n",
       "      <td>68</td>\n",
       "      <td>0</td>\n",
       "      <td>8.80</td>\n",
       "      <td>0.0</td>\n",
       "      <td>2.57</td>\n",
       "      <td>NaN</td>\n",
       "    </tr>\n",
       "    <tr>\n",
       "      <th>9071243</th>\n",
       "      <td>2022-03-31 23:08:00</td>\n",
       "      <td>2022-03-31 23:17:00</td>\n",
       "      <td>1.66</td>\n",
       "      <td>112</td>\n",
       "      <td>256</td>\n",
       "      <td>0</td>\n",
       "      <td>8.80</td>\n",
       "      <td>0.0</td>\n",
       "      <td>1.82</td>\n",
       "      <td>NaN</td>\n",
       "    </tr>\n",
       "  </tbody>\n",
       "</table>\n",
       "<p>9071244 rows × 10 columns</p>\n",
       "</div>"
      ],
      "text/plain": [
       "        tpep_pickup_datetime tpep_dropoff_datetime  trip_distance  \\\n",
       "0        2022-01-01 00:35:40   2022-01-01 00:53:29           3.80   \n",
       "1        2022-01-01 00:33:43   2022-01-01 00:42:07           2.10   \n",
       "2        2022-01-01 00:53:21   2022-01-01 01:02:19           0.97   \n",
       "3        2022-01-01 00:25:21   2022-01-01 00:35:23           1.09   \n",
       "4        2022-01-01 00:36:48   2022-01-01 01:14:20           4.30   \n",
       "...                      ...                   ...            ...   \n",
       "9071239  2022-03-31 23:45:00   2022-04-01 00:01:00           3.57   \n",
       "9071240  2022-03-31 23:59:39   2022-04-01 00:06:09           2.04   \n",
       "9071241  2022-03-31 23:50:00   2022-04-01 00:08:00           0.59   \n",
       "9071242  2022-03-31 23:25:56   2022-03-31 23:32:37           1.26   \n",
       "9071243  2022-03-31 23:08:00   2022-03-31 23:17:00           1.66   \n",
       "\n",
       "         PULocationID  DOLocationID  payment_type  fare_amount  extra  \\\n",
       "0                 142           236             1        14.50    3.0   \n",
       "1                 236            42             1         8.00    0.5   \n",
       "2                 166           166             1         7.50    0.5   \n",
       "3                 114            68             2         8.00    0.5   \n",
       "4                  68           163             1        23.50    0.5   \n",
       "...               ...           ...           ...          ...    ...   \n",
       "9071239            48           262             0        18.33    0.0   \n",
       "9071240            48           238             0         9.75    0.0   \n",
       "9071241            48             4             0        17.33    0.0   \n",
       "9071242           158            68             0         8.80    0.0   \n",
       "9071243           112           256             0         8.80    0.0   \n",
       "\n",
       "         tip_amount  airport_fee  \n",
       "0              3.65          0.0  \n",
       "1              4.00          0.0  \n",
       "2              1.76          0.0  \n",
       "3              0.00          0.0  \n",
       "4              3.00          0.0  \n",
       "...             ...          ...  \n",
       "9071239        1.00          NaN  \n",
       "9071240        2.00          NaN  \n",
       "9071241        2.23          NaN  \n",
       "9071242        2.57          NaN  \n",
       "9071243        1.82          NaN  \n",
       "\n",
       "[9071244 rows x 10 columns]"
      ]
     },
     "execution_count": 1,
     "metadata": {},
     "output_type": "execute_result"
    }
   ],
   "source": [
    "import pandas as pd\n",
    "import numpy as np\n",
    "df = pd.read_parquet(\"../data/curated/initialised_df.parquet\")\n",
    "df"
   ]
  },
  {
   "cell_type": "markdown",
   "metadata": {},
   "source": [
    "**2.Handle Missing value**"
   ]
  },
  {
   "cell_type": "code",
   "execution_count": 2,
   "metadata": {},
   "outputs": [
    {
     "data": {
      "text/plain": [
       "tpep_pickup_datetime          0\n",
       "tpep_dropoff_datetime         0\n",
       "trip_distance                 0\n",
       "PULocationID                  0\n",
       "DOLocationID                  0\n",
       "payment_type                  0\n",
       "fare_amount                   0\n",
       "extra                         0\n",
       "tip_amount                    0\n",
       "airport_fee              291055\n",
       "dtype: int64"
      ]
     },
     "execution_count": 2,
     "metadata": {},
     "output_type": "execute_result"
    }
   ],
   "source": [
    "# check missing data\n",
    "df.isnull().sum()"
   ]
  },
  {
   "cell_type": "code",
   "execution_count": 3,
   "metadata": {},
   "outputs": [
    {
     "data": {
      "text/plain": [
       "tpep_pickup_datetime     0\n",
       "tpep_dropoff_datetime    0\n",
       "trip_distance            0\n",
       "PULocationID             0\n",
       "DOLocationID             0\n",
       "payment_type             0\n",
       "fare_amount              0\n",
       "extra                    0\n",
       "tip_amount               0\n",
       "airport_fee              0\n",
       "dtype: int64"
      ]
     },
     "execution_count": 3,
     "metadata": {},
     "output_type": "execute_result"
    }
   ],
   "source": [
    "# Only airport fee has missing value, therefore I assume that NaN data for\n",
    "# airport fee just means that the trip didn't picked up at LaGuardia or \n",
    "# John F. Kennedy Airports. So I will replace these missing value by 0.\n",
    "df = df.fillna(0)\n",
    "df.isnull().sum()"
   ]
  },
  {
   "cell_type": "markdown",
   "metadata": {},
   "source": [
    "**3. check data validation**"
   ]
  },
  {
   "cell_type": "code",
   "execution_count": 4,
   "metadata": {},
   "outputs": [
    {
     "data": {
      "text/plain": [
       "tpep_pickup_datetime     2003-01-01 00:10:06\n",
       "tpep_dropoff_datetime    2003-01-01 12:38:59\n",
       "trip_distance                            0.0\n",
       "PULocationID                               1\n",
       "DOLocationID                               1\n",
       "payment_type                               0\n",
       "fare_amount                           -895.0\n",
       "extra                                   -4.5\n",
       "tip_amount                            -188.0\n",
       "airport_fee                            -1.25\n",
       "dtype: object"
      ]
     },
     "execution_count": 4,
     "metadata": {},
     "output_type": "execute_result"
    }
   ],
   "source": [
    "# let's get the min and max to see if there are some unexpected error data\n",
    "df.min()"
   ]
  },
  {
   "cell_type": "code",
   "execution_count": 5,
   "metadata": {},
   "outputs": [
    {
     "data": {
      "text/plain": [
       "tpep_pickup_datetime     2022-05-24 17:41:50\n",
       "tpep_dropoff_datetime    2022-05-24 17:43:27\n",
       "trip_distance                      348798.53\n",
       "PULocationID                             265\n",
       "DOLocationID                             265\n",
       "payment_type                               5\n",
       "fare_amount                        401092.32\n",
       "extra                                   33.5\n",
       "tip_amount                            888.88\n",
       "airport_fee                             1.25\n",
       "dtype: object"
      ]
     },
     "execution_count": 5,
     "metadata": {},
     "output_type": "execute_result"
    }
   ],
   "source": [
    "df.max()"
   ]
  },
  {
   "cell_type": "code",
   "execution_count": 6,
   "metadata": {},
   "outputs": [
    {
     "data": {
      "text/plain": [
       "(9066449, 10)"
      ]
     },
     "execution_count": 6,
     "metadata": {},
     "output_type": "execute_result"
    }
   ],
   "source": [
    "# it is clear that the earliest time is for year 2003 and latest time for\n",
    "# year 2022-05, which are not wanted\n",
    "df = df[(df[\"tpep_pickup_datetime\"] >= \"2022-01-01 00:00:00\")\n",
    "    & (df[\"tpep_pickup_datetime\"] < \"2022-04-01 00:00:00\")]\n",
    "# if there is any trip that has earlyer dropoff than\n",
    "# pickup shouldn't happen\n",
    "df = df[df[\"tpep_pickup_datetime\"] <= df[\"tpep_dropoff_datetime\"]]\n",
    "df.shape"
   ]
  },
  {
   "cell_type": "code",
   "execution_count": 7,
   "metadata": {},
   "outputs": [
    {
     "data": {
      "text/plain": [
       "(8963202, 10)"
      ]
     },
     "execution_count": 7,
     "metadata": {},
     "output_type": "execute_result"
    }
   ],
   "source": [
    "# it is also clear that we have some trip distance = 0 which also\n",
    "# shouldn't happen\n",
    "df = df[df[\"trip_distance\"] > 0]\n",
    "df.shape"
   ]
  },
  {
   "cell_type": "code",
   "execution_count": 8,
   "metadata": {},
   "outputs": [
    {
     "data": {
      "text/plain": [
       "(8919170, 10)"
      ]
     },
     "execution_count": 8,
     "metadata": {},
     "output_type": "execute_result"
    }
   ],
   "source": [
    "# the minimum fare amout should be 2.5, cause it inital charge and the negative\n",
    "# values on the fee, which shouldn't happen\n",
    "df = df[(df[\"fare_amount\"] >= 2.5) & (df[\"extra\"] >= 0) \n",
    "    & (df[\"tip_amount\"] >= 0) & (df[\"airport_fee\"] >= 0)]\n",
    "df.shape"
   ]
  },
  {
   "cell_type": "code",
   "execution_count": 9,
   "metadata": {},
   "outputs": [
    {
     "data": {
      "text/plain": [
       "(8638835, 10)"
      ]
     },
     "execution_count": 9,
     "metadata": {},
     "output_type": "execute_result"
    }
   ],
   "source": [
    "# the payment type range should be 1-6, 0 is unwanted\n",
    "df = df[df[\"payment_type\"] > 0]\n",
    "df.shape"
   ]
  },
  {
   "cell_type": "code",
   "execution_count": 10,
   "metadata": {},
   "outputs": [
    {
     "data": {
      "text/plain": [
       "tpep_pickup_datetime     2022-01-01 00:00:08\n",
       "tpep_dropoff_datetime    2022-01-01 00:04:57\n",
       "trip_distance                           0.01\n",
       "PULocationID                               1\n",
       "DOLocationID                               1\n",
       "payment_type                               1\n",
       "fare_amount                              2.5\n",
       "extra                                    0.0\n",
       "tip_amount                               0.0\n",
       "airport_fee                              0.0\n",
       "dtype: object"
      ]
     },
     "execution_count": 10,
     "metadata": {},
     "output_type": "execute_result"
    }
   ],
   "source": [
    "# check what about now\n",
    "df.min()"
   ]
  },
  {
   "cell_type": "markdown",
   "metadata": {},
   "source": [
    "The data seems to be fine now."
   ]
  },
  {
   "cell_type": "code",
   "execution_count": 11,
   "metadata": {},
   "outputs": [
    {
     "data": {
      "image/png": "[encoded data removed]",
      "text/plain": [
       "<Figure size 432x288 with 1 Axes>"
      ]
     },
     "metadata": {
      "needs_background": "light"
     },
     "output_type": "display_data"
    }
   ],
   "source": [
    "# the tip is only recorded for credit card. I decide to check\n",
    "# the distribution of payment type and see whether it could be\n",
    "# used to predict tips for the other data\n",
    "from turtle import left\n",
    "import matplotlib.pyplot as plt\n",
    "plt.hist(df.payment_type, bins=6,range=(1,7), align='left', density=True)\n",
    "plt.xlabel('Payment type')\n",
    "plt.ylabel('Proportion')\n",
    "plt.title('Yellow taxi payment type')\n",
    "plt.xticks(range(1,7),(\"Credit\",\"Cash\",\"No charge\",\"Dispute\",\"Unknown\",\"Voided\"))\n",
    "plt.show()"
   ]
  },
  {
   "cell_type": "code",
   "execution_count": 12,
   "metadata": {},
   "outputs": [
    {
     "data": {
      "text/plain": [
       "(8605623, 10)"
      ]
     },
     "execution_count": 12,
     "metadata": {},
     "output_type": "execute_result"
    }
   ],
   "source": [
    "# it is clear that about 80% trip use credit card to pay, about 20% use cash\n",
    "# the other payments are so little that could be ignored, therefore I decide\n",
    "# to cut those methods\n",
    "df = df[df[\"payment_type\"] <= 2]\n",
    "df.shape"
   ]
  },
  {
   "cell_type": "markdown",
   "metadata": {},
   "source": [
    "**4.Outlier removing**"
   ]
  },
  {
   "cell_type": "code",
   "execution_count": 13,
   "metadata": {},
   "outputs": [
    {
     "data": {
      "image/png": "[encoded data removed]",
      "text/plain": [
       "<Figure size 432x288 with 4 Axes>"
      ]
     },
     "metadata": {
      "needs_background": "light"
     },
     "output_type": "display_data"
    }
   ],
   "source": [
    "# plot the numeric variables to see their distribution\n",
    "# I didn't app the airpot fee cause the min of it is 0, max is 1.25\n",
    "plt.subplot(2,2,1)\n",
    "plt.boxplot(df['trip_distance'])\n",
    "plt.title(\"trip distance\")\n",
    "plt.subplot(2,2,2)\n",
    "plt.boxplot(df['fare_amount'])\n",
    "plt.title(\"fare_amount\")\n",
    "plt.subplot(2,2,3)\n",
    "plt.boxplot(df['tip_amount'])\n",
    "plt.title(\"tip_amount\")\n",
    "plt.subplot(2,2,4)\n",
    "plt.boxplot(df['extra'])\n",
    "plt.title(\"extra\")\n",
    "plt.show()"
   ]
  },
  {
   "cell_type": "code",
   "execution_count": 15,
   "metadata": {},
   "outputs": [
    {
     "data": {
      "text/plain": [
       "(7013572, 10)"
      ]
     },
     "execution_count": 15,
     "metadata": {},
     "output_type": "execute_result"
    }
   ],
   "source": [
    "# it is clear that all these variables are heavly left skewed\n",
    "# use 1.5 IQR to remove the outlier\n",
    "for feature in [\"trip_distance\",\"fare_amount\",\"tip_amount\",\"extra\"]:\n",
    "    Q1 = df[feature].quantile(0.25)\n",
    "    Q3 = df[feature].quantile(0.75)\n",
    "    IQR = Q3 - Q1\n",
    "    df = df[(df[feature] >= (Q1 - 1.5 * IQR))&(df[feature] <= (Q3 + 1.5 * IQR))]\n",
    "df.shape"
   ]
  },
  {
   "cell_type": "code",
   "execution_count": 16,
   "metadata": {},
   "outputs": [
    {
     "data": {
      "image/png": "[encoded data removed]",
      "text/plain": [
       "<Figure size 432x288 with 4 Axes>"
      ]
     },
     "metadata": {
      "needs_background": "light"
     },
     "output_type": "display_data"
    }
   ],
   "source": [
    "# let's see the box plot for now\n",
    "plt.subplot(2,2,1)\n",
    "plt.boxplot(df['trip_distance'])\n",
    "plt.title(\"trip distance\")\n",
    "plt.subplot(2,2,2)\n",
    "plt.boxplot(df['fare_amount'])\n",
    "plt.title(\"fare_amount\")\n",
    "plt.subplot(2,2,3)\n",
    "plt.boxplot(df['tip_amount'])\n",
    "plt.title(\"tip_amount\")\n",
    "plt.subplot(2,2,4)\n",
    "plt.boxplot(df['extra'])\n",
    "plt.title(\"extra\")\n",
    "plt.show()"
   ]
  },
  {
   "cell_type": "code",
   "execution_count": null,
   "metadata": {},
   "outputs": [],
   "source": [
    "# it's seems fair enough, let's save the dataframe and move to the\n",
    "# next stage\n",
    "df.to_parquet(\"../data/curated/preprocessed_df.parquet\")"
   ]
  }
 ],
 "metadata": {
  "kernelspec": {
   "display_name": "Python 3.8.13 ('ads': conda)",
   "language": "python",
   "name": "python3"
  },
  "language_info": {
   "codemirror_mode": {
    "name": "ipython",
    "version": 3
   },
   "file_extension": ".py",
   "mimetype": "text/x-python",
   "name": "python",
   "nbconvert_exporter": "python",
   "pygments_lexer": "ipython3",
   "version": "3.8.13"
  },
  "orig_nbformat": 4,
  "vscode": {
   "interpreter": {
    "hash": "766ca3b46ae585b88ab3de958168df6329f76e1c7bcf3d6a3ca4ca420707fd8d"
   }
  }
 },
 "nbformat": 4,
 "nbformat_minor": 2
}
