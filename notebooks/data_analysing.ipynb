{
 "cells": [
  {
   "cell_type": "markdown",
   "metadata": {},
   "source": [
    "# Data analysing"
   ]
  },
  {
   "cell_type": "code",
   "execution_count": 1,
   "metadata": {},
   "outputs": [
    {
     "data": {
      "text/html": [
       "<div>\n",
       "<style scoped>\n",
       "    .dataframe tbody tr th:only-of-type {\n",
       "        vertical-align: middle;\n",
       "    }\n",
       "\n",
       "    .dataframe tbody tr th {\n",
       "        vertical-align: top;\n",
       "    }\n",
       "\n",
       "    .dataframe thead th {\n",
       "        text-align: right;\n",
       "    }\n",
       "</style>\n",
       "<table border=\"1\" class=\"dataframe\">\n",
       "  <thead>\n",
       "    <tr style=\"text-align: right;\">\n",
       "      <th></th>\n",
       "      <th>earning_efficiency</th>\n",
       "      <th>trip_distance</th>\n",
       "      <th>PULocationID</th>\n",
       "      <th>time_of_day</th>\n",
       "      <th>day_of_week</th>\n",
       "      <th>snow_fall</th>\n",
       "    </tr>\n",
       "  </thead>\n",
       "  <tbody>\n",
       "    <tr>\n",
       "      <th>0</th>\n",
       "      <td>1.187069</td>\n",
       "      <td>3.80</td>\n",
       "      <td>142</td>\n",
       "      <td>0</td>\n",
       "      <td>6</td>\n",
       "      <td>0.0</td>\n",
       "    </tr>\n",
       "    <tr>\n",
       "      <th>1</th>\n",
       "      <td>1.488095</td>\n",
       "      <td>2.10</td>\n",
       "      <td>236</td>\n",
       "      <td>0</td>\n",
       "      <td>6</td>\n",
       "      <td>0.0</td>\n",
       "    </tr>\n",
       "    <tr>\n",
       "      <th>2</th>\n",
       "      <td>1.088435</td>\n",
       "      <td>0.97</td>\n",
       "      <td>166</td>\n",
       "      <td>0</td>\n",
       "      <td>6</td>\n",
       "      <td>0.0</td>\n",
       "    </tr>\n",
       "    <tr>\n",
       "      <th>3</th>\n",
       "      <td>1.052527</td>\n",
       "      <td>1.09</td>\n",
       "      <td>114</td>\n",
       "      <td>0</td>\n",
       "      <td>6</td>\n",
       "      <td>0.0</td>\n",
       "    </tr>\n",
       "    <tr>\n",
       "      <th>4</th>\n",
       "      <td>1.606170</td>\n",
       "      <td>5.07</td>\n",
       "      <td>233</td>\n",
       "      <td>0</td>\n",
       "      <td>6</td>\n",
       "      <td>0.0</td>\n",
       "    </tr>\n",
       "    <tr>\n",
       "      <th>...</th>\n",
       "      <td>...</td>\n",
       "      <td>...</td>\n",
       "      <td>...</td>\n",
       "      <td>...</td>\n",
       "      <td>...</td>\n",
       "      <td>...</td>\n",
       "    </tr>\n",
       "    <tr>\n",
       "      <th>7235809</th>\n",
       "      <td>1.555603</td>\n",
       "      <td>0.80</td>\n",
       "      <td>230</td>\n",
       "      <td>23</td>\n",
       "      <td>4</td>\n",
       "      <td>0.0</td>\n",
       "    </tr>\n",
       "    <tr>\n",
       "      <th>7235810</th>\n",
       "      <td>1.174775</td>\n",
       "      <td>4.60</td>\n",
       "      <td>113</td>\n",
       "      <td>23</td>\n",
       "      <td>4</td>\n",
       "      <td>0.0</td>\n",
       "    </tr>\n",
       "    <tr>\n",
       "      <th>7235811</th>\n",
       "      <td>1.028918</td>\n",
       "      <td>1.90</td>\n",
       "      <td>238</td>\n",
       "      <td>23</td>\n",
       "      <td>4</td>\n",
       "      <td>0.0</td>\n",
       "    </tr>\n",
       "    <tr>\n",
       "      <th>7235812</th>\n",
       "      <td>1.137805</td>\n",
       "      <td>3.96</td>\n",
       "      <td>148</td>\n",
       "      <td>23</td>\n",
       "      <td>4</td>\n",
       "      <td>0.0</td>\n",
       "    </tr>\n",
       "    <tr>\n",
       "      <th>7235813</th>\n",
       "      <td>1.014582</td>\n",
       "      <td>5.30</td>\n",
       "      <td>141</td>\n",
       "      <td>23</td>\n",
       "      <td>4</td>\n",
       "      <td>0.0</td>\n",
       "    </tr>\n",
       "  </tbody>\n",
       "</table>\n",
       "<p>7235814 rows × 6 columns</p>\n",
       "</div>"
      ],
      "text/plain": [
       "         earning_efficiency  trip_distance  PULocationID  time_of_day  \\\n",
       "0                  1.187069           3.80           142            0   \n",
       "1                  1.488095           2.10           236            0   \n",
       "2                  1.088435           0.97           166            0   \n",
       "3                  1.052527           1.09           114            0   \n",
       "4                  1.606170           5.07           233            0   \n",
       "...                     ...            ...           ...          ...   \n",
       "7235809            1.555603           0.80           230           23   \n",
       "7235810            1.174775           4.60           113           23   \n",
       "7235811            1.028918           1.90           238           23   \n",
       "7235812            1.137805           3.96           148           23   \n",
       "7235813            1.014582           5.30           141           23   \n",
       "\n",
       "         day_of_week  snow_fall  \n",
       "0                  6        0.0  \n",
       "1                  6        0.0  \n",
       "2                  6        0.0  \n",
       "3                  6        0.0  \n",
       "4                  6        0.0  \n",
       "...              ...        ...  \n",
       "7235809            4        0.0  \n",
       "7235810            4        0.0  \n",
       "7235811            4        0.0  \n",
       "7235812            4        0.0  \n",
       "7235813            4        0.0  \n",
       "\n",
       "[7235814 rows x 6 columns]"
      ]
     },
     "execution_count": 1,
     "metadata": {},
     "output_type": "execute_result"
    }
   ],
   "source": [
    "import pandas as pd\n",
    "import numpy as np\n",
    "import matplotlib.pyplot as plt\n",
    "df = pd.read_parquet(\"../data/curated/result_df.parquet\")\n",
    "df"
   ]
  },
  {
   "cell_type": "code",
   "execution_count": 2,
   "metadata": {},
   "outputs": [
    {
     "data": {
      "text/html": [
       "<div>\n",
       "<style scoped>\n",
       "    .dataframe tbody tr th:only-of-type {\n",
       "        vertical-align: middle;\n",
       "    }\n",
       "\n",
       "    .dataframe tbody tr th {\n",
       "        vertical-align: top;\n",
       "    }\n",
       "\n",
       "    .dataframe thead th {\n",
       "        text-align: right;\n",
       "    }\n",
       "</style>\n",
       "<table border=\"1\" class=\"dataframe\">\n",
       "  <thead>\n",
       "    <tr style=\"text-align: right;\">\n",
       "      <th></th>\n",
       "      <th>time_of_day</th>\n",
       "      <th>earning_efficiency</th>\n",
       "    </tr>\n",
       "  </thead>\n",
       "  <tbody>\n",
       "    <tr>\n",
       "      <th>0</th>\n",
       "      <td>0</td>\n",
       "      <td>1.519429</td>\n",
       "    </tr>\n",
       "    <tr>\n",
       "      <th>1</th>\n",
       "      <td>1</td>\n",
       "      <td>1.539361</td>\n",
       "    </tr>\n",
       "    <tr>\n",
       "      <th>2</th>\n",
       "      <td>2</td>\n",
       "      <td>1.565487</td>\n",
       "    </tr>\n",
       "    <tr>\n",
       "      <th>3</th>\n",
       "      <td>3</td>\n",
       "      <td>1.592428</td>\n",
       "    </tr>\n",
       "    <tr>\n",
       "      <th>4</th>\n",
       "      <td>4</td>\n",
       "      <td>1.656081</td>\n",
       "    </tr>\n",
       "  </tbody>\n",
       "</table>\n",
       "</div>"
      ],
      "text/plain": [
       "   time_of_day  earning_efficiency\n",
       "0            0            1.519429\n",
       "1            1            1.539361\n",
       "2            2            1.565487\n",
       "3            3            1.592428\n",
       "4            4            1.656081"
      ]
     },
     "execution_count": 2,
     "metadata": {},
     "output_type": "execute_result"
    }
   ],
   "source": [
    "# aim to explore the realtion ship between time of day and earning efficiency\n",
    "sub_df = df[['earning_efficiency']].groupby(df['time_of_day']).mean()\n",
    "sub_df.reset_index(inplace=True)\n",
    "sub_df.head()"
   ]
  },
  {
   "cell_type": "code",
   "execution_count": 3,
   "metadata": {},
   "outputs": [
    {
     "data": {
      "image/png": "[encoded data removed]",
      "text/plain": [
       "<Figure size 432x288 with 1 Axes>"
      ]
     },
     "metadata": {
      "needs_background": "light"
     },
     "output_type": "display_data"
    }
   ],
   "source": [
    "# visualise\n",
    "plt.bar(sub_df['time_of_day'],sub_df['earning_efficiency'])\n",
    "plt.xlabel('time(hour)')\n",
    "plt.ylabel('earning efficiency')\n",
    "plt.title('Earning efficiency in different time of day')\n",
    "plt.show()"
   ]
  },
  {
   "cell_type": "code",
   "execution_count": 4,
   "metadata": {},
   "outputs": [
    {
     "data": {
      "image/png": "[encoded data removed]",
      "text/plain": [
       "<Figure size 432x288 with 1 Axes>"
      ]
     },
     "metadata": {
      "needs_background": "light"
     },
     "output_type": "display_data"
    }
   ],
   "source": [
    "# do the same thing for day of week\n",
    "sub_df = df[['earning_efficiency']].groupby(df['day_of_week']).mean()\n",
    "sub_df.reset_index(inplace=True)\n",
    "# visualise\n",
    "plt.bar(sub_df['day_of_week'],sub_df['earning_efficiency'])\n",
    "plt.xlabel('day of week')\n",
    "plt.ylabel('earning efficiency')\n",
    "plt.title('Earning efficiency in different day of week')\n",
    "plt.show()"
   ]
  },
  {
   "cell_type": "code",
   "execution_count": 5,
   "metadata": {},
   "outputs": [
    {
     "data": {
      "image/png": "[encoded data removed]",
      "text/plain": [
       "<Figure size 432x288 with 1 Axes>"
      ]
     },
     "metadata": {
      "needs_background": "light"
     },
     "output_type": "display_data"
    }
   ],
   "source": [
    "# let's also see the influence of these two value for the amount of trip also\n",
    "sub_df = df[['trip_distance']].groupby(df['time_of_day']).count()\n",
    "sub_df.reset_index(inplace=True)\n",
    "sub_df.columns = ['time_of_day', 'trip_amount']\n",
    "\n",
    "# same visualization method\n",
    "plt.bar(sub_df['time_of_day'],sub_df['trip_amount'])\n",
    "plt.xlabel('time(hour)')\n",
    "plt.ylabel('Trip amout')\n",
    "plt.title('trip amount in different time of day')\n",
    "plt.show()"
   ]
  },
  {
   "cell_type": "code",
   "execution_count": 6,
   "metadata": {},
   "outputs": [
    {
     "data": {
      "image/png": "[encoded data removed]",
      "text/plain": [
       "<Figure size 432x288 with 1 Axes>"
      ]
     },
     "metadata": {
      "needs_background": "light"
     },
     "output_type": "display_data"
    }
   ],
   "source": [
    "# this time for day of week\n",
    "sub_df = df[['trip_distance']].groupby(df['day_of_week']).count()\n",
    "sub_df.reset_index(inplace=True)\n",
    "sub_df.columns = ['day_of_week', 'trip_amount']\n",
    "\n",
    "# same visualization method\n",
    "plt.bar(sub_df['day_of_week'],sub_df['trip_amount'])\n",
    "plt.xlabel('time(hour)')\n",
    "plt.ylabel('Trip amout')\n",
    "plt.title('trip amount in different day of week')\n",
    "plt.show()"
   ]
  },
  {
   "cell_type": "code",
   "execution_count": 15,
   "metadata": {},
   "outputs": [
    {
     "data": {
      "text/plain": [
       "Text(0, 0.5, 'earning efficiency')"
      ]
     },
     "execution_count": 15,
     "metadata": {},
     "output_type": "execute_result"
    },
    {
     "data": {
      "image/png": "[encoded data removed]",
      "text/plain": [
       "<Figure size 432x288 with 1 Axes>"
      ]
     },
     "metadata": {
      "needs_background": "light"
     },
     "output_type": "display_data"
    }
   ],
   "source": [
    "# next we want to observe the relationship between trip distance and our earning efficiency\n",
    "sample_df = df.sample(n = 5000, random_state= 1234)\n",
    "plt.scatter(sample_df['trip_distance'],sample_df['earning_efficiency'],s=1)\n",
    "plt.xlabel('trip distance')\n",
    "plt.ylabel('earning efficiency')"
   ]
  },
  {
   "cell_type": "markdown",
   "metadata": {},
   "source": [
    "Looks like a 1/x graph"
   ]
  },
  {
   "cell_type": "code",
   "execution_count": 18,
   "metadata": {},
   "outputs": [
    {
     "data": {
      "text/plain": [
       "Text(0, 0.5, 'earning efficiency')"
      ]
     },
     "execution_count": 18,
     "metadata": {},
     "output_type": "execute_result"
    },
    {
     "data": {
      "image/png": "[encoded data removed]",
      "text/plain": [
       "<Figure size 432x288 with 1 Axes>"
      ]
     },
     "metadata": {
      "needs_background": "light"
     },
     "output_type": "display_data"
    }
   ],
   "source": [
    "# now let's see the relationship between snow fall and earning efficiency\n",
    "sample_df = df.sample(n = 100000, random_state= 1234)\n",
    "plt.scatter(sample_df['snow_fall'],sample_df['earning_efficiency'],s=3)\n",
    "plt.xlabel('snow fall')\n",
    "plt.ylabel('earning efficiency')"
   ]
  },
  {
   "cell_type": "markdown",
   "metadata": {},
   "source": [
    "there isn't any clear influence can be observed between them"
   ]
  },
  {
   "cell_type": "code",
   "execution_count": 36,
   "metadata": {},
   "outputs": [
    {
     "data": {
      "text/html": [
       "<div>\n",
       "<style scoped>\n",
       "    .dataframe tbody tr th:only-of-type {\n",
       "        vertical-align: middle;\n",
       "    }\n",
       "\n",
       "    .dataframe tbody tr th {\n",
       "        vertical-align: top;\n",
       "    }\n",
       "\n",
       "    .dataframe thead th {\n",
       "        text-align: right;\n",
       "    }\n",
       "</style>\n",
       "<table border=\"1\" class=\"dataframe\">\n",
       "  <thead>\n",
       "    <tr style=\"text-align: right;\">\n",
       "      <th></th>\n",
       "      <th>snow_fall</th>\n",
       "      <th>trip_amount</th>\n",
       "    </tr>\n",
       "  </thead>\n",
       "  <tbody>\n",
       "    <tr>\n",
       "      <th>0</th>\n",
       "      <td>0.0</td>\n",
       "      <td>4722058</td>\n",
       "    </tr>\n",
       "    <tr>\n",
       "      <th>1</th>\n",
       "      <td>0.1</td>\n",
       "      <td>428676</td>\n",
       "    </tr>\n",
       "    <tr>\n",
       "      <th>2</th>\n",
       "      <td>0.2</td>\n",
       "      <td>336538</td>\n",
       "    </tr>\n",
       "    <tr>\n",
       "      <th>3</th>\n",
       "      <td>0.3</td>\n",
       "      <td>138981</td>\n",
       "    </tr>\n",
       "    <tr>\n",
       "      <th>4</th>\n",
       "      <td>0.4</td>\n",
       "      <td>140668</td>\n",
       "    </tr>\n",
       "  </tbody>\n",
       "</table>\n",
       "</div>"
      ],
      "text/plain": [
       "   snow_fall  trip_amount\n",
       "0        0.0      4722058\n",
       "1        0.1       428676\n",
       "2        0.2       336538\n",
       "3        0.3       138981\n",
       "4        0.4       140668"
      ]
     },
     "execution_count": 36,
     "metadata": {},
     "output_type": "execute_result"
    }
   ],
   "source": [
    "# see if snow fall may influence the trip amout\n",
    "# inorder to achieve this, I'll need my curated data for external dataset\n",
    "# because the number of days of each snow fall number is different\n",
    "\n",
    "# here is the sum count for snow fall for each temperature\n",
    "sub_df = df[['trip_distance']].groupby(df['snow_fall']).count()\n",
    "sub_df.reset_index(inplace=True)\n",
    "sub_df.columns = ['snow_fall', 'trip_amount']\n",
    "sub_df.head()\n"
   ]
  },
  {
   "cell_type": "code",
   "execution_count": 37,
   "metadata": {},
   "outputs": [
    {
     "data": {
      "text/html": [
       "<div>\n",
       "<style scoped>\n",
       "    .dataframe tbody tr th:only-of-type {\n",
       "        vertical-align: middle;\n",
       "    }\n",
       "\n",
       "    .dataframe tbody tr th {\n",
       "        vertical-align: top;\n",
       "    }\n",
       "\n",
       "    .dataframe thead th {\n",
       "        text-align: right;\n",
       "    }\n",
       "</style>\n",
       "<table border=\"1\" class=\"dataframe\">\n",
       "  <thead>\n",
       "    <tr style=\"text-align: right;\">\n",
       "      <th></th>\n",
       "      <th>snow_fall</th>\n",
       "      <th>day_count</th>\n",
       "    </tr>\n",
       "  </thead>\n",
       "  <tbody>\n",
       "    <tr>\n",
       "      <th>0</th>\n",
       "      <td>0.0</td>\n",
       "      <td>58</td>\n",
       "    </tr>\n",
       "    <tr>\n",
       "      <th>1</th>\n",
       "      <td>0.1</td>\n",
       "      <td>5</td>\n",
       "    </tr>\n",
       "    <tr>\n",
       "      <th>2</th>\n",
       "      <td>0.2</td>\n",
       "      <td>4</td>\n",
       "    </tr>\n",
       "    <tr>\n",
       "      <th>3</th>\n",
       "      <td>3.2</td>\n",
       "      <td>3</td>\n",
       "    </tr>\n",
       "    <tr>\n",
       "      <th>4</th>\n",
       "      <td>0.6</td>\n",
       "      <td>2</td>\n",
       "    </tr>\n",
       "  </tbody>\n",
       "</table>\n",
       "</div>"
      ],
      "text/plain": [
       "   snow_fall  day_count\n",
       "0        0.0         58\n",
       "1        0.1          5\n",
       "2        0.2          4\n",
       "3        3.2          3\n",
       "4        0.6          2"
      ]
     },
     "execution_count": 37,
     "metadata": {},
     "output_type": "execute_result"
    }
   ],
   "source": [
    "# we need get the date number to get the mean count for each day under different snow_fall\n",
    "snow = pd.read_csv('../data/curated/snow.csv')\n",
    "snow_day_count = pd.DataFrame(snow['snow_fall'].value_counts())\n",
    "snow_day_count.reset_index(inplace = True)\n",
    "snow_day_count.columns = ['snow_fall', 'day_count']\n",
    "snow_day_count.head()"
   ]
  },
  {
   "cell_type": "code",
   "execution_count": 40,
   "metadata": {},
   "outputs": [],
   "source": [
    "sub_df = sub_df.merge(snow_day_count, on = 'snow_fall')\n",
    "sub_df[\"mean_trip_amount\"] = sub_df['trip_amount']/sub_df['day_count']"
   ]
  },
  {
   "cell_type": "code",
   "execution_count": 41,
   "metadata": {},
   "outputs": [
    {
     "data": {
      "image/png": "[encoded data removed]",
      "text/plain": [
       "<Figure size 432x288 with 1 Axes>"
      ]
     },
     "metadata": {
      "needs_background": "light"
     },
     "output_type": "display_data"
    }
   ],
   "source": [
    "# visualization\n",
    "plt.plot(sub_df['snow_fall'],sub_df['mean_trip_amount'])\n",
    "plt.xlabel('snow_fall(inches)')\n",
    "plt.ylabel('Mean Trip amout')\n",
    "plt.title('trip amount in different snow fall')\n",
    "plt.show()"
   ]
  },
  {
   "cell_type": "markdown",
   "metadata": {},
   "source": [
    "actually looks pretty bad....."
   ]
  },
  {
   "cell_type": "code",
   "execution_count": 45,
   "metadata": {},
   "outputs": [
    {
     "data": {
      "text/plain": [
       "snow_fall               0.0\n",
       "trip_amount         26533.0\n",
       "day_count               1.0\n",
       "mean_trip_amount    26533.0\n",
       "dtype: float64"
      ]
     },
     "execution_count": 45,
     "metadata": {},
     "output_type": "execute_result"
    }
   ],
   "source": [
    "sub_df.head(6)"
   ]
  },
  {
   "cell_type": "markdown",
   "metadata": {},
   "source": [
    "Here we can see the 'outlier' is at the day snow fall = 0.5"
   ]
  },
  {
   "cell_type": "code",
   "execution_count": null,
   "metadata": {},
   "outputs": [],
   "source": [
    "# let's move on to analyse he location\n"
   ]
  }
 ],
 "metadata": {
  "kernelspec": {
   "display_name": "Python 3.8.13 ('ads': conda)",
   "language": "python",
   "name": "python3"
  },
  "language_info": {
   "codemirror_mode": {
    "name": "ipython",
    "version": 3
   },
   "file_extension": ".py",
   "mimetype": "text/x-python",
   "name": "python",
   "nbconvert_exporter": "python",
   "pygments_lexer": "ipython3",
   "version": "3.8.13"
  },
  "orig_nbformat": 4,
  "vscode": {
   "interpreter": {
    "hash": "766ca3b46ae585b88ab3de958168df6329f76e1c7bcf3d6a3ca4ca420707fd8d"
   }
  }
 },
 "nbformat": 4,
 "nbformat_minor": 2
}
